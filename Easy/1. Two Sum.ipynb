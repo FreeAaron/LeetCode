{
 "cells": [
  {
   "cell_type": "markdown",
   "id": "0300283f",
   "metadata": {},
   "source": [
    "## 1. Two Sum\n",
    "\n",
    "Given an array of integers nums and an integer target, return indices of the two numbers such that they add up to target.\n",
    "\n",
    "You may assume that each input would have exactly one solution, and you may not use the same element twice.\n",
    "// 不能重複用\n",
    "\n",
    "You can return the answer in any order.\n",
    "\n",
    "### https://leetcode.com/problems/two-sum/"
   ]
  },
  {
   "cell_type": "code",
   "execution_count": 15,
   "id": "de4bef16",
   "metadata": {},
   "outputs": [
    {
     "name": "stdout",
     "output_type": "stream",
     "text": [
      "[0, 1]\n",
      "[1, 2]\n",
      "[0, 1]\n"
     ]
    }
   ],
   "source": [
    "class Solution:\n",
    "    def twoSum(self, nums, target):\n",
    "        hashtable = dict()\n",
    "        for i, num in enumerate(nums):\n",
    "            if target - num in hashtable:\n",
    "                return [hashtable[target - num], i]\n",
    "            hashtable[nums[i]] = i\n",
    "        return []\n",
    "\n",
    "print(Solution().twoSum([2,7,11,15], 9))\n",
    "print(Solution().twoSum([3,2,4], 6))\n",
    "print(Solution().twoSum([3,3], 6))"
   ]
  },
  {
   "cell_type": "code",
   "execution_count": 18,
   "id": "f5563b78",
   "metadata": {},
   "outputs": [
    {
     "name": "stdout",
     "output_type": "stream",
     "text": [
      "[0, 1]\n",
      "[1, 2]\n",
      "[0, 1]\n"
     ]
    }
   ],
   "source": [
    "#Brute Force\n",
    "\n",
    "class Solution:\n",
    "    def twoSum(self, nums, target):\n",
    "        n = len(nums)\n",
    "        for i in range(n):\n",
    "            for j in range(i + 1, n):\n",
    "                if nums[i] + nums[j] == target:\n",
    "                    return [i, j]\n",
    "\n",
    "print(Solution().twoSum([2,7,11,15], 9))\n",
    "print(Solution().twoSum([3,2,4], 6))\n",
    "print(Solution().twoSum([3,3], 6))"
   ]
  },
  {
   "cell_type": "code",
   "execution_count": 19,
   "id": "bebf3632",
   "metadata": {},
   "outputs": [
    {
     "name": "stdout",
     "output_type": "stream",
     "text": [
      "[0, 1]\n",
      "[1, 2]\n",
      "[0, 1]\n"
     ]
    }
   ],
   "source": [
    "#Two-pass Hash Table\n",
    "\n",
    "class Solution:\n",
    "    def twoSum(self, nums, target):\n",
    "        hashmap = {}\n",
    "        for i in range(len(nums)):\n",
    "            hashmap[nums[i]] = i\n",
    "        for i in range(len(nums)):\n",
    "            complement = target - nums[i]\n",
    "            if complement in hashmap and hashmap[complement] !=i:\n",
    "                return [i, hashmap[complement]]\n",
    "\n",
    "print(Solution().twoSum([2,7,11,15], 9))\n",
    "print(Solution().twoSum([3,2,4], 6))\n",
    "print(Solution().twoSum([3,3], 6))"
   ]
  },
  {
   "cell_type": "code",
   "execution_count": 20,
   "id": "1f8e3c5a",
   "metadata": {},
   "outputs": [
    {
     "name": "stdout",
     "output_type": "stream",
     "text": [
      "[1, 0]\n",
      "[2, 1]\n",
      "[1, 0]\n"
     ]
    }
   ],
   "source": [
    "#One-pass Hash Table\n",
    "\n",
    "class Solution:\n",
    "    def twoSum(self, nums, target):\n",
    "        hashmap = {}\n",
    "        for i in range(len(nums)):\n",
    "            complement = target - nums[i]\n",
    "            if complement in hashmap:\n",
    "                return [i, hashmap[complement]]\n",
    "            hashmap[nums[i]] = i\n",
    "\n",
    "print(Solution().twoSum([2,7,11,15], 9))\n",
    "print(Solution().twoSum([3,2,4], 6))\n",
    "print(Solution().twoSum([3,3], 6))"
   ]
  },
  {
   "cell_type": "code",
   "execution_count": null,
   "id": "63009395",
   "metadata": {},
   "outputs": [],
   "source": []
  }
 ],
 "metadata": {
  "kernelspec": {
   "display_name": "Python 3 (ipykernel)",
   "language": "python",
   "name": "python3"
  },
  "language_info": {
   "codemirror_mode": {
    "name": "ipython",
    "version": 3
   },
   "file_extension": ".py",
   "mimetype": "text/x-python",
   "name": "python",
   "nbconvert_exporter": "python",
   "pygments_lexer": "ipython3",
   "version": "3.8.12"
  }
 },
 "nbformat": 4,
 "nbformat_minor": 5
}
