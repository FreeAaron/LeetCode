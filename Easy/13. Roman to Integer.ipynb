{
 "cells": [
  {
   "cell_type": "markdown",
   "id": "ba95f0ef",
   "metadata": {},
   "source": [
    "https://leetcode.com/problems/roman-to-integer/"
   ]
  },
  {
   "cell_type": "code",
   "execution_count": 11,
   "id": "b84f359d",
   "metadata": {},
   "outputs": [
    {
     "name": "stdout",
     "output_type": "stream",
     "text": [
      "3\n",
      "4\n",
      "9\n",
      "58\n",
      "1994\n"
     ]
    }
   ],
   "source": [
    "class Solution(object):\n",
    "    \n",
    "    SYMBOL_VALUES = {\n",
    "        'I' : 1,\n",
    "        'V' : 5,\n",
    "        'X' : 10,\n",
    "        'L' : 50,\n",
    "        'C' : 100,\n",
    "        'D' : 500,\n",
    "        'M' : 1000,\n",
    "    }\n",
    "    \n",
    "    def romanToInt(self, s: str) -> int:  #Python3格式\n",
    "        ans = 0\n",
    "        n = len(s)\n",
    "        for i, ch in enumerate(s):\n",
    "            value = Solution.SYMBOL_VALUES[ch]\n",
    "            if i < n - 1 and value < Solution.SYMBOL_VALUES[s[i + 1]]:\n",
    "                ans -= value\n",
    "            else:\n",
    "                ans += value\n",
    "        return ans\n",
    "    \n",
    "print(Solution().romanToInt('III'))\n",
    "print(Solution().romanToInt('IV'))\n",
    "print(Solution().romanToInt('IX'))\n",
    "print(Solution().romanToInt('LVIII'))\n",
    "print(Solution().romanToInt('MCMXCIV'))"
   ]
  },
  {
   "cell_type": "code",
   "execution_count": null,
   "id": "38b1105c",
   "metadata": {},
   "outputs": [],
   "source": []
  }
 ],
 "metadata": {
  "kernelspec": {
   "display_name": "Python 3 (ipykernel)",
   "language": "python",
   "name": "python3"
  },
  "language_info": {
   "codemirror_mode": {
    "name": "ipython",
    "version": 3
   },
   "file_extension": ".py",
   "mimetype": "text/x-python",
   "name": "python",
   "nbconvert_exporter": "python",
   "pygments_lexer": "ipython3",
   "version": "3.8.12"
  }
 },
 "nbformat": 4,
 "nbformat_minor": 5
}
