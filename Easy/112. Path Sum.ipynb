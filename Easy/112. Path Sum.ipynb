{
 "cells": [
  {
   "cell_type": "markdown",
   "id": "b968886b",
   "metadata": {},
   "source": [
    "https://leetcode.com/problems/path-sum/"
   ]
  },
  {
   "cell_type": "markdown",
   "id": "c3e95baa",
   "metadata": {},
   "source": [
    "https://grey-hippodraco-662.notion.site/LeetCode-eeb7ebde15c447ffb3728c2a1640aa14"
   ]
  },
  {
   "cell_type": "code",
   "execution_count": null,
   "id": "ffde3390",
   "metadata": {},
   "outputs": [],
   "source": [
    "# Definition for a binary tree node.\n",
    "# class TreeNode:\n",
    "#     def __init__(self, val=0, left=None, right=None):\n",
    "#         self.val = val\n",
    "#         self.left = left\n",
    "#         self.right = right\n",
    "class Solution:\n",
    "    def hasPathSum(self, root: Optional[TreeNode], targetSum: int) -> bool:"
   ]
  },
  {
   "cell_type": "code",
   "execution_count": 5,
   "id": "d0d46e99",
   "metadata": {},
   "outputs": [],
   "source": [
    "#Definition for a binary tree node.\n",
    "class TreeNode:\n",
    "    def __init__(self, val=0, left=None, right=None):\n",
    "        self.val = val\n",
    "        self.left = left\n",
    "        self.right = right\n",
    "\n",
    "from typing import Optional\n",
    "\n",
    "class Solution:\n",
    "    def hasPathSum(self, root: Optional[TreeNode], targetSum: int) -> bool:\n",
    "        if root is None:\n",
    "            return False\n",
    "        \n",
    "        if root.left is None and root.right is None and root.val == targetSum:\n",
    "            return True\n",
    "        else:\n",
    "            return self.hasPathSum(root.left, targetSum - root.val) or self.hasPathSum(root.right, targetSum - root.val)"
   ]
  },
  {
   "cell_type": "code",
   "execution_count": null,
   "id": "d2cafc8e",
   "metadata": {},
   "outputs": [],
   "source": []
  }
 ],
 "metadata": {
  "kernelspec": {
   "display_name": "Python 3 (ipykernel)",
   "language": "python",
   "name": "python3"
  },
  "language_info": {
   "codemirror_mode": {
    "name": "ipython",
    "version": 3
   },
   "file_extension": ".py",
   "mimetype": "text/x-python",
   "name": "python",
   "nbconvert_exporter": "python",
   "pygments_lexer": "ipython3",
   "version": "3.8.12"
  }
 },
 "nbformat": 4,
 "nbformat_minor": 5
}
