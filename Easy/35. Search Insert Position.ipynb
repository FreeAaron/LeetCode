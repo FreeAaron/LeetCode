{
 "cells": [
  {
   "cell_type": "markdown",
   "id": "b1ae5cca",
   "metadata": {},
   "source": [
    "https://leetcode.com/problems/search-insert-position/"
   ]
  },
  {
   "cell_type": "code",
   "execution_count": null,
   "id": "1554dbe0",
   "metadata": {},
   "outputs": [],
   "source": [
    "class Solution:\n",
    "    def searchInsert(self, nums: List[int], target: int) -> int:\n",
    "        "
   ]
  },
  {
   "cell_type": "code",
   "execution_count": 2,
   "id": "987d0c8f",
   "metadata": {},
   "outputs": [],
   "source": [
    "from typing import List"
   ]
  },
  {
   "cell_type": "code",
   "execution_count": 3,
   "id": "c0564ddf",
   "metadata": {},
   "outputs": [],
   "source": [
    "class Solution:\n",
    "    def searchInsert(self, nums: List[int], target: int) -> int:\n",
    "        if target in nums:\n",
    "            return(nums.index(target))\n",
    "        else:\n",
    "            nums.append(target)\n",
    "            nums.sort()\n",
    "            return(nums.index(target))"
   ]
  },
  {
   "cell_type": "code",
   "execution_count": 11,
   "id": "ec2ff812",
   "metadata": {},
   "outputs": [],
   "source": [
    "class Solution:\n",
    "    def searchInsert(self, nums: List[int], target: int) -> int:\n",
    "        if target > nums[len(nums)-1]:\n",
    "            return len(nums)\n",
    "        \n",
    "        for i in range(len(nums)):\n",
    "            if nums[i] >= target:\n",
    "                return i"
   ]
  },
  {
   "cell_type": "code",
   "execution_count": 12,
   "id": "ddb5beb7",
   "metadata": {},
   "outputs": [
    {
     "name": "stdout",
     "output_type": "stream",
     "text": [
      "2\n",
      "1\n",
      "4\n"
     ]
    }
   ],
   "source": [
    "print(Solution().searchInsert([1,3,5,6],5))\n",
    "print(Solution().searchInsert([1,3,5,6],2))\n",
    "print(Solution().searchInsert([1,3,5,6],7))"
   ]
  },
  {
   "cell_type": "code",
   "execution_count": 7,
   "id": "437469aa",
   "metadata": {},
   "outputs": [],
   "source": [
    "class Solution:\n",
    "    def searchInsert(self, nums: List[int], target: int) -> int:\n",
    "        for i in nums:\n",
    "            if i >= target:\n",
    "                return nums.index(i)\n",
    "        else:\n",
    "            return len(nums)\n",
    "            "
   ]
  }
 ],
 "metadata": {
  "kernelspec": {
   "display_name": "Python 3 (ipykernel)",
   "language": "python",
   "name": "python3"
  },
  "language_info": {
   "codemirror_mode": {
    "name": "ipython",
    "version": 3
   },
   "file_extension": ".py",
   "mimetype": "text/x-python",
   "name": "python",
   "nbconvert_exporter": "python",
   "pygments_lexer": "ipython3",
   "version": "3.8.12"
  }
 },
 "nbformat": 4,
 "nbformat_minor": 5
}
