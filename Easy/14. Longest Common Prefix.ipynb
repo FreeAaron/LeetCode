{
 "cells": [
  {
   "cell_type": "markdown",
   "id": "0f9a408f",
   "metadata": {},
   "source": [
    "Write a function to find the longest common prefix string amongst an array of strings.\n",
    "\n",
    "If there is no common prefix, return an empty string \"\".\n",
    "\n",
    "https://leetcode.com/problems/longest-common-prefix/"
   ]
  },
  {
   "cell_type": "code",
   "execution_count": 21,
   "id": "6233bb4f",
   "metadata": {},
   "outputs": [
    {
     "name": "stdout",
     "output_type": "stream",
     "text": [
      "fl\n"
     ]
    },
    {
     "data": {
      "text/plain": [
       "''"
      ]
     },
     "execution_count": 21,
     "metadata": {},
     "output_type": "execute_result"
    }
   ],
   "source": [
    "#Approach 1: 橫向掃描 Horizontal scanning\n",
    "from typing import List\n",
    "\n",
    "strs1 = [\"flower\",\"flow\",\"flight\"]\n",
    "strs2 = [\"dog\",\"racecar\",\"car\"]\n",
    "\n",
    "class Solution:\n",
    "    def longestCommonPrefix(self, strs: List[str]) -> str:\n",
    "        if not strs:\n",
    "            return \"\"\n",
    "        \n",
    "        prefix, count = strs[0], len(strs)\n",
    "        for i in range(1, count):\n",
    "            prefix = self.lcp(prefix, strs[i])\n",
    "            if not prefix:\n",
    "                break\n",
    "        \n",
    "        return prefix\n",
    "    \n",
    "    def lcp(self, str1, str2):\n",
    "        length, index = min(len(str1), len(str2)), 0\n",
    "        while index < length and str1[index] == str2[index]:\n",
    "            index += 1\n",
    "        return str1[:index]\n",
    "    \n",
    "print(Solution().longestCommonPrefix(strs1))\n",
    "Solution().longestCommonPrefix(strs2)    "
   ]
  },
  {
   "cell_type": "code",
   "execution_count": 29,
   "id": "fcefb97c",
   "metadata": {},
   "outputs": [
    {
     "name": "stdout",
     "output_type": "stream",
     "text": [
      "fl\n"
     ]
    },
    {
     "data": {
      "text/plain": [
       "''"
      ]
     },
     "execution_count": 29,
     "metadata": {},
     "output_type": "execute_result"
    }
   ],
   "source": [
    "#Approach 2: 縱向掃描 Vertical scanning\n",
    "\n",
    "from typing import List\n",
    "\n",
    "strs1 = [\"flower\",\"flow\",\"flight\"]\n",
    "strs2 = [\"dog\",\"racecar\",\"car\"]\n",
    "\n",
    "class Solution:\n",
    "    def longestCommonPrefix(self, strs: List[str]) -> str:\n",
    "        if not strs:\n",
    "            return \"\"\n",
    "        \n",
    "        length, count = len(strs[0]), len(strs)\n",
    "        for i in range(length):\n",
    "            c = strs[0][i]\n",
    "            if any(i == len(strs[j]) or strs[j][i] != c for j in range(1, count)):\n",
    "                 return strs[0][:i]\n",
    "            \n",
    "        return strs[0]\n",
    "    \n",
    "print(Solution().longestCommonPrefix(strs1))\n",
    "Solution().longestCommonPrefix(strs2)  "
   ]
  },
  {
   "cell_type": "code",
   "execution_count": 30,
   "id": "a122f5c0",
   "metadata": {},
   "outputs": [
    {
     "name": "stdout",
     "output_type": "stream",
     "text": [
      "fl\n"
     ]
    },
    {
     "data": {
      "text/plain": [
       "''"
      ]
     },
     "execution_count": 30,
     "metadata": {},
     "output_type": "execute_result"
    }
   ],
   "source": [
    "#Approach 3: Divide and conquer\n",
    "\n",
    "from typing import List\n",
    "\n",
    "strs1 = [\"flower\",\"flow\",\"flight\"]\n",
    "strs2 = [\"dog\",\"racecar\",\"car\"]\n",
    "\n",
    "class Solution:\n",
    "    def longestCommonPrefix(self, strs: List[str]) -> str:\n",
    "        def lcp(start, end):\n",
    "            if start == end:\n",
    "                return strs[start]\n",
    "            \n",
    "            mid = (start + end) // 2\n",
    "            lcpLeft, lcpRight = lcp(start, mid), lcp(mid + 1, end)\n",
    "            minLength = min(len(lcpLeft), len(lcpRight))\n",
    "            for i in range(minLength):\n",
    "                if lcpLeft[i] != lcpRight[i]:\n",
    "                    return lcpLeft[:i]\n",
    "                \n",
    "            return lcpLeft[:minLength]\n",
    "        \n",
    "        return \"\" if not strs else lcp(0, len(strs) - 1)\n",
    "\n",
    "print(Solution().longestCommonPrefix(strs1))\n",
    "Solution().longestCommonPrefix(strs2) "
   ]
  },
  {
   "cell_type": "code",
   "execution_count": 33,
   "id": "cb281ccc",
   "metadata": {},
   "outputs": [
    {
     "name": "stdout",
     "output_type": "stream",
     "text": [
      "fl\n"
     ]
    },
    {
     "data": {
      "text/plain": [
       "''"
      ]
     },
     "execution_count": 33,
     "metadata": {},
     "output_type": "execute_result"
    }
   ],
   "source": [
    "#Approach 4: Binary search\n",
    "\n",
    "from typing import List\n",
    "\n",
    "strs1 = [\"flower\",\"flow\",\"flight\"]\n",
    "strs2 = [\"dog\",\"racecar\",\"car\"]\n",
    "\n",
    "class Solution:\n",
    "    def longestCommonPrefix(self, strs: List[str]) -> str:\n",
    "        def isCommonPrefix(length):\n",
    "            str0, count = strs[0][:length], len(strs)\n",
    "            return all(strs[i][:length] == str0 for i in range(1, count))\n",
    "        \n",
    "        if not strs:\n",
    "            return \"\"\n",
    "            \n",
    "        minLength = min(len(s) for s in strs)\n",
    "        low, high = 0, minLength\n",
    "        while low < high:\n",
    "            mid = (high - low + 1) // 2 + low\n",
    "            if isCommonPrefix(mid):\n",
    "                low = mid\n",
    "            else:\n",
    "                high = mid - 1\n",
    "            \n",
    "        return strs[0][:low]\n",
    "\n",
    "print(Solution().longestCommonPrefix(strs1))\n",
    "Solution().longestCommonPrefix(strs2) "
   ]
  },
  {
   "cell_type": "code",
   "execution_count": null,
   "id": "c855f2eb",
   "metadata": {},
   "outputs": [],
   "source": []
  }
 ],
 "metadata": {
  "kernelspec": {
   "display_name": "Python 3 (ipykernel)",
   "language": "python",
   "name": "python3"
  },
  "language_info": {
   "codemirror_mode": {
    "name": "ipython",
    "version": 3
   },
   "file_extension": ".py",
   "mimetype": "text/x-python",
   "name": "python",
   "nbconvert_exporter": "python",
   "pygments_lexer": "ipython3",
   "version": "3.8.12"
  }
 },
 "nbformat": 4,
 "nbformat_minor": 5
}
