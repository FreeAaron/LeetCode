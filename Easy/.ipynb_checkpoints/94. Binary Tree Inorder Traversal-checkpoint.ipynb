{
 "cells": [
  {
   "cell_type": "markdown",
   "id": "7824c91f",
   "metadata": {},
   "source": [
    "https://leetcode.com/problems/binary-tree-inorder-traversal/"
   ]
  },
  {
   "cell_type": "code",
   "execution_count": null,
   "id": "7ae905c8",
   "metadata": {},
   "outputs": [],
   "source": [
    "# Definition for a binary tree node.\n",
    "# class TreeNode:\n",
    "#     def __init__(self, val=0, left=None, right=None):\n",
    "#         self.val = val\n",
    "#         self.left = left\n",
    "#         self.right = right\n",
    "class Solution:\n",
    "    def inorderTraversal(self, root: Optional[TreeNode]) -> List[int]:\n",
    "        "
   ]
  },
  {
   "cell_type": "code",
   "execution_count": 2,
   "id": "ff8a274a",
   "metadata": {},
   "outputs": [],
   "source": [
    "#Definition for a binary tree node.\n",
    "class TreeNode:\n",
    "    def __init__(self, val=0, left=None, right=None):\n",
    "        self.val = val\n",
    "        self.left = left\n",
    "        self.right = right\n",
    "\n",
    "from typing import List\n",
    "\n",
    "class Solution:\n",
    "    def inorderTraversal(self, root: TreeNode) -> List[int]:\n",
    "        WHITE, GRAY = 0, 1\n",
    "        result = []\n",
    "        stack = [(WHITE, root)]\n",
    "        while stack:\n",
    "            color, node = stack.pop()\n",
    "            if node is None:\n",
    "                continue\n",
    "            if color == WHITE:\n",
    "                stack.append((WHITE, node.right))\n",
    "                stack.append((GRAY, node))\n",
    "                stack.append((WHITE, node.left))\n",
    "            else:\n",
    "                result.append(node.val)\n",
    "        return result"
   ]
  },
  {
   "cell_type": "markdown",
   "id": "b3b87120",
   "metadata": {},
   "source": [
    "https://leetcode-cn.com/problems/binary-tree-inorder-traversal/solution/yan-se-biao-ji-fa-yi-chong-tong-yong-qie-jian-ming/"
   ]
  },
  {
   "cell_type": "code",
   "execution_count": 10,
   "id": "ce06c04a",
   "metadata": {},
   "outputs": [],
   "source": [
    "#遞迴\n",
    "class Solution(object):\n",
    "    def inorderTraversal(self, root):\n",
    "        res = []\n",
    "        def dfs(root):\n",
    "            if not root:\n",
    "                return\n",
    "            dfs(root.left)\n",
    "            res.append(root.val)\n",
    "            dfs(root.right)\n",
    "        dfs(root)\n",
    "        return res"
   ]
  },
  {
   "cell_type": "code",
   "execution_count": 12,
   "id": "d809f1f4",
   "metadata": {},
   "outputs": [],
   "source": [
    "#疊代\n",
    "class Solution(object):\n",
    "    def inorderTraversal(self, root):\n",
    "        res = []\n",
    "        stack = []\n",
    "        while stack or root:\n",
    "            if root:\n",
    "                stack.append(root)\n",
    "                root = root.left\n",
    "            else:\n",
    "                tmp = stack.pop()\n",
    "                res.append(tmp.val)\n",
    "                root = tmp.right\n",
    "        return res"
   ]
  },
  {
   "cell_type": "code",
   "execution_count": 14,
   "id": "c0bfde0c",
   "metadata": {},
   "outputs": [],
   "source": [
    "#Morris\n",
    "class Solution(object):\n",
    "    def inorderTraversal(self, root):\n",
    "        res = []\n",
    "        pre = None\n",
    "        while root:\n",
    "            #如果左節點不為空，就將當前節點連帶右子樹全部掛到左節點的最右子樹下面\n",
    "            if root.left:\n",
    "                pre = root.left\n",
    "                while pre.right:\n",
    "                    pre = pre.right\n",
    "                pre.right = root\n",
    "                # 將root指向root的left\n",
    "                tmp = root\n",
    "                root = root.left\n",
    "                tmp.left = None\n",
    "            #左子樹為空，則打印這個節點，並向右邊遍歷\n",
    "            else:\n",
    "                res.append(root.val)\n",
    "                root = root.right\n",
    "        return res"
   ]
  },
  {
   "cell_type": "markdown",
   "id": "9f656602",
   "metadata": {},
   "source": [
    "https://leetcode-cn.com/problems/binary-tree-inorder-traversal/solution/dong-hua-yan-shi-94-er-cha-shu-de-zhong-xu-bian-li/"
   ]
  },
  {
   "cell_type": "code",
   "execution_count": 15,
   "id": "032e2c92",
   "metadata": {},
   "outputs": [
    {
     "ename": "AttributeError",
     "evalue": "'list' object has no attribute 'left'",
     "output_type": "error",
     "traceback": [
      "\u001b[1;31m---------------------------------------------------------------------------\u001b[0m",
      "\u001b[1;31mAttributeError\u001b[0m                            Traceback (most recent call last)",
      "\u001b[1;32m~\\AppData\\Local\\Temp/ipykernel_14168/1925767127.py\u001b[0m in \u001b[0;36m<module>\u001b[1;34m\u001b[0m\n\u001b[1;32m----> 1\u001b[1;33m \u001b[0mprint\u001b[0m\u001b[1;33m(\u001b[0m\u001b[0mSolution\u001b[0m\u001b[1;33m(\u001b[0m\u001b[1;33m)\u001b[0m\u001b[1;33m.\u001b[0m\u001b[0minorderTraversal\u001b[0m\u001b[1;33m(\u001b[0m\u001b[0mroot\u001b[0m \u001b[1;33m=\u001b[0m \u001b[1;33m[\u001b[0m\u001b[1;36m1\u001b[0m\u001b[1;33m]\u001b[0m\u001b[1;33m)\u001b[0m\u001b[1;33m)\u001b[0m\u001b[1;33m\u001b[0m\u001b[1;33m\u001b[0m\u001b[0m\n\u001b[0m",
      "\u001b[1;32m~\\AppData\\Local\\Temp/ipykernel_14168/1855268310.py\u001b[0m in \u001b[0;36minorderTraversal\u001b[1;34m(self, root)\u001b[0m\n\u001b[0;32m      6\u001b[0m         \u001b[1;32mwhile\u001b[0m \u001b[0mroot\u001b[0m\u001b[1;33m:\u001b[0m\u001b[1;33m\u001b[0m\u001b[1;33m\u001b[0m\u001b[0m\n\u001b[0;32m      7\u001b[0m             \u001b[1;31m#如果左節點不為空，就將當前節點連帶右子樹全部掛到左節點的最右子樹下面\u001b[0m\u001b[1;33m\u001b[0m\u001b[1;33m\u001b[0m\u001b[1;33m\u001b[0m\u001b[0m\n\u001b[1;32m----> 8\u001b[1;33m             \u001b[1;32mif\u001b[0m \u001b[0mroot\u001b[0m\u001b[1;33m.\u001b[0m\u001b[0mleft\u001b[0m\u001b[1;33m:\u001b[0m\u001b[1;33m\u001b[0m\u001b[1;33m\u001b[0m\u001b[0m\n\u001b[0m\u001b[0;32m      9\u001b[0m                 \u001b[0mpre\u001b[0m \u001b[1;33m=\u001b[0m \u001b[0mroot\u001b[0m\u001b[1;33m.\u001b[0m\u001b[0mleft\u001b[0m\u001b[1;33m\u001b[0m\u001b[1;33m\u001b[0m\u001b[0m\n\u001b[0;32m     10\u001b[0m                 \u001b[1;32mwhile\u001b[0m \u001b[0mpre\u001b[0m\u001b[1;33m.\u001b[0m\u001b[0mright\u001b[0m\u001b[1;33m:\u001b[0m\u001b[1;33m\u001b[0m\u001b[1;33m\u001b[0m\u001b[0m\n",
      "\u001b[1;31mAttributeError\u001b[0m: 'list' object has no attribute 'left'"
     ]
    }
   ],
   "source": [
    "print(Solution().inorderTraversal(root = [1]))"
   ]
  },
  {
   "cell_type": "code",
   "execution_count": null,
   "id": "49023d83",
   "metadata": {},
   "outputs": [],
   "source": []
  }
 ],
 "metadata": {
  "kernelspec": {
   "display_name": "Python 3 (ipykernel)",
   "language": "python",
   "name": "python3"
  },
  "language_info": {
   "codemirror_mode": {
    "name": "ipython",
    "version": 3
   },
   "file_extension": ".py",
   "mimetype": "text/x-python",
   "name": "python",
   "nbconvert_exporter": "python",
   "pygments_lexer": "ipython3",
   "version": "3.8.12"
  }
 },
 "nbformat": 4,
 "nbformat_minor": 5
}
