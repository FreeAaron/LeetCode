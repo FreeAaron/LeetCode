{
 "cells": [
  {
   "cell_type": "markdown",
   "id": "17844275",
   "metadata": {},
   "source": [
    "https://leetcode.com/problems/length-of-last-word/"
   ]
  },
  {
   "cell_type": "code",
   "execution_count": null,
   "id": "1a02bec1",
   "metadata": {},
   "outputs": [],
   "source": [
    "class Solution:\n",
    "    def lengthOfLastWord(self, s: str) -> int:     "
   ]
  },
  {
   "cell_type": "code",
   "execution_count": 4,
   "id": "982e9de1",
   "metadata": {},
   "outputs": [],
   "source": [
    "class Solution:\n",
    "    def lengthOfLastWord(self, s: str) -> int:\n",
    "        count = 0\n",
    "        local_count = 0\n",
    "        \n",
    "        for i in range(len(s)):\n",
    "            if s[i] == ' ':\n",
    "                local_count = 0\n",
    "            else:\n",
    "                local_count += 1\n",
    "                count = local_count\n",
    "        return count"
   ]
  },
  {
   "cell_type": "code",
   "execution_count": 7,
   "id": "dc146a12",
   "metadata": {
    "scrolled": true
   },
   "outputs": [
    {
     "name": "stdout",
     "output_type": "stream",
     "text": [
      "5\n",
      "4\n",
      "6\n"
     ]
    }
   ],
   "source": [
    "print(Solution().lengthOfLastWord(\"Hello World\"))\n",
    "print(Solution().lengthOfLastWord(\"   fly me   to   the moon  \"))\n",
    "print(Solution().lengthOfLastWord(\"luffy is still joyboy\"))"
   ]
  },
  {
   "cell_type": "code",
   "execution_count": null,
   "id": "1ff64809",
   "metadata": {},
   "outputs": [],
   "source": []
  }
 ],
 "metadata": {
  "kernelspec": {
   "display_name": "Python 3 (ipykernel)",
   "language": "python",
   "name": "python3"
  },
  "language_info": {
   "codemirror_mode": {
    "name": "ipython",
    "version": 3
   },
   "file_extension": ".py",
   "mimetype": "text/x-python",
   "name": "python",
   "nbconvert_exporter": "python",
   "pygments_lexer": "ipython3",
   "version": "3.8.12"
  }
 },
 "nbformat": 4,
 "nbformat_minor": 5
}
