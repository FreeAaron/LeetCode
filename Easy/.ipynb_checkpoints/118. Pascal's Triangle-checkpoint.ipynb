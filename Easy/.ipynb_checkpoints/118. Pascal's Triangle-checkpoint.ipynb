{
 "cells": [
  {
   "cell_type": "markdown",
   "id": "79d5831f",
   "metadata": {},
   "source": [
    "https://youtu.be/gq4t3cwMQbs"
   ]
  },
  {
   "cell_type": "markdown",
   "id": "7e3bbe8b",
   "metadata": {},
   "source": [
    "https://leetcode.com/problems/pascals-triangle/"
   ]
  },
  {
   "cell_type": "code",
   "execution_count": null,
   "id": "f7c795de",
   "metadata": {},
   "outputs": [],
   "source": [
    "class Solution:\n",
    "    def generate(self, numRows: int) -> List[List[int]]:\n",
    "        "
   ]
  },
  {
   "cell_type": "code",
   "execution_count": 22,
   "id": "c866b648",
   "metadata": {},
   "outputs": [],
   "source": [
    "from typing import List\n",
    "\n",
    "class Solution:\n",
    "    def generate(self, numRows: int) -> List[List[int]]:\n",
    "        result = []\n",
    "        for i in range(numRows):   #列\n",
    "            result.append([])\n",
    "            for j in range(i+1):   #行\n",
    "                if j in (0, i):\n",
    "                    result[i].append(1)       \n",
    "                else:\n",
    "                    result[i].append(result[i-1][j-1] + result[i-1][j])\n",
    "        return result"
   ]
  },
  {
   "cell_type": "code",
   "execution_count": 23,
   "id": "b1921c5f",
   "metadata": {},
   "outputs": [
    {
     "name": "stdout",
     "output_type": "stream",
     "text": [
      "[[1], [1, 1], [1, 2, 1], [1, 3, 3, 1], [1, 4, 6, 4, 1]]\n"
     ]
    }
   ],
   "source": [
    "print(Solution().generate(5))"
   ]
  },
  {
   "cell_type": "code",
   "execution_count": 7,
   "id": "400b9d5f",
   "metadata": {},
   "outputs": [
    {
     "name": "stdout",
     "output_type": "stream",
     "text": [
      "[[1]]\n"
     ]
    }
   ],
   "source": [
    "print(Solution().generate(1))"
   ]
  },
  {
   "cell_type": "code",
   "execution_count": null,
   "id": "8c3f041b",
   "metadata": {},
   "outputs": [],
   "source": []
  }
 ],
 "metadata": {
  "kernelspec": {
   "display_name": "Python 3",
   "language": "python",
   "name": "python3"
  },
  "language_info": {
   "codemirror_mode": {
    "name": "ipython",
    "version": 3
   },
   "file_extension": ".py",
   "mimetype": "text/x-python",
   "name": "python",
   "nbconvert_exporter": "python",
   "pygments_lexer": "ipython3",
   "version": "3.6.13"
  }
 },
 "nbformat": 4,
 "nbformat_minor": 5
}
