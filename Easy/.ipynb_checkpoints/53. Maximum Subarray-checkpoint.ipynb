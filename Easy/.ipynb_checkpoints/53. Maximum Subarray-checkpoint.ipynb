{
 "cells": [
  {
   "cell_type": "markdown",
   "id": "6f930fad",
   "metadata": {},
   "source": [
    "https://leetcode.com/problems/maximum-subarray/"
   ]
  },
  {
   "cell_type": "code",
   "execution_count": null,
   "id": "21b3203d",
   "metadata": {},
   "outputs": [],
   "source": [
    "class Solution:\n",
    "    def maxSubArray(self, nums: List[int]) -> int:"
   ]
  },
  {
   "cell_type": "code",
   "execution_count": 2,
   "id": "21ddc09d",
   "metadata": {},
   "outputs": [],
   "source": [
    "from typing import List"
   ]
  },
  {
   "cell_type": "code",
   "execution_count": 21,
   "id": "388bcc18",
   "metadata": {},
   "outputs": [],
   "source": [
    "# Greedy\n",
    "class Solution:\n",
    "    def maxSubArray(self, nums: List[int]) -> int:\n",
    "        maxsum, currentsum = nums[0], nums[0]\n",
    "        for i in nums[1:]:\n",
    "            currentsum = max(i, currentsum + i)\n",
    "            maxsum = max(maxsum, currentsum)\n",
    "        return maxsum"
   ]
  },
  {
   "cell_type": "code",
   "execution_count": 25,
   "id": "29d8cdb8",
   "metadata": {},
   "outputs": [
    {
     "name": "stdout",
     "output_type": "stream",
     "text": [
      "6\n",
      "1\n",
      "23\n"
     ]
    }
   ],
   "source": [
    "print(Solution().maxSubArray([-2,1,-3,4,-1,2,1,-5,4]))\n",
    "print(Solution().maxSubArray([1]))\n",
    "print(Solution().maxSubArray([5,4,-1,7,8]))"
   ]
  },
  {
   "cell_type": "code",
   "execution_count": 28,
   "id": "a038fc6b",
   "metadata": {},
   "outputs": [],
   "source": [
    "# DP\n",
    "class Solution:\n",
    "    def maxSubArray(self, nums: List[int]) -> int:\n",
    "        n = len(nums)\n",
    "        \n",
    "        for i in range(1, n):\n",
    "            if nums[i-1] > 0:\n",
    "                nums[i] += nums[i-1]\n",
    "        \n",
    "        return max(nums)"
   ]
  },
  {
   "cell_type": "code",
   "execution_count": 27,
   "id": "dd14ec13",
   "metadata": {},
   "outputs": [
    {
     "name": "stdout",
     "output_type": "stream",
     "text": [
      "6\n",
      "1\n",
      "23\n"
     ]
    }
   ],
   "source": [
    "print(Solution().maxSubArray([-2,1,-3,4,-1,2,1,-5,4]))\n",
    "print(Solution().maxSubArray([1]))\n",
    "print(Solution().maxSubArray([5,4,-1,7,8]))"
   ]
  },
  {
   "cell_type": "code",
   "execution_count": 26,
   "id": "a6951ce1",
   "metadata": {},
   "outputs": [],
   "source": [
    "class Solution:\n",
    "    def maxSubArray(self, nums: List[int]) -> int:\n",
    "        if max(nums) < 0:\n",
    "            return max(nums)\n",
    "        \n",
    "        local_max, global_max = 0, 0\n",
    "        for num in nums:\n",
    "            local_max = max(0,local_max + num)\n",
    "            global_max = max(global_max, local_max)\n",
    "        \n",
    "        return global_max"
   ]
  },
  {
   "cell_type": "code",
   "execution_count": 29,
   "id": "a1bab622",
   "metadata": {},
   "outputs": [
    {
     "name": "stdout",
     "output_type": "stream",
     "text": [
      "6\n",
      "1\n",
      "23\n"
     ]
    }
   ],
   "source": [
    "print(Solution().maxSubArray([-2,1,-3,4,-1,2,1,-5,4]))\n",
    "print(Solution().maxSubArray([1]))\n",
    "print(Solution().maxSubArray([5,4,-1,7,8]))"
   ]
  },
  {
   "cell_type": "code",
   "execution_count": null,
   "id": "75f542b9",
   "metadata": {},
   "outputs": [],
   "source": []
  }
 ],
 "metadata": {
  "kernelspec": {
   "display_name": "Python 3 (ipykernel)",
   "language": "python",
   "name": "python3"
  },
  "language_info": {
   "codemirror_mode": {
    "name": "ipython",
    "version": 3
   },
   "file_extension": ".py",
   "mimetype": "text/x-python",
   "name": "python",
   "nbconvert_exporter": "python",
   "pygments_lexer": "ipython3",
   "version": "3.8.12"
  }
 },
 "nbformat": 4,
 "nbformat_minor": 5
}
