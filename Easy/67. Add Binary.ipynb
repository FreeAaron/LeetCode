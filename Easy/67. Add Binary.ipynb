{
 "cells": [
  {
   "cell_type": "markdown",
   "id": "e341a3a0",
   "metadata": {},
   "source": [
    "https://leetcode.com/problems/add-binary/"
   ]
  },
  {
   "cell_type": "code",
   "execution_count": null,
   "id": "928ee11a",
   "metadata": {},
   "outputs": [],
   "source": [
    "class Solution:\n",
    "    def addBinary(self, a: str, b: str) -> str:"
   ]
  },
  {
   "cell_type": "code",
   "execution_count": 19,
   "id": "3d67719e",
   "metadata": {},
   "outputs": [],
   "source": [
    "class Solution:\n",
    "    def addBinary(self, a: str, b: str) -> str:\n",
    "        return '{0:b}'.format(int(a,2) + int(b,2)) \n",
    "          #轉成二進位表示       #二進位轉十進位相加\n",
    "#複雜度：O(n+m)"
   ]
  },
  {
   "cell_type": "code",
   "execution_count": 20,
   "id": "38eac737",
   "metadata": {
    "scrolled": true
   },
   "outputs": [
    {
     "name": "stdout",
     "output_type": "stream",
     "text": [
      "100\n",
      "10101\n"
     ]
    }
   ],
   "source": [
    "print(Solution().addBinary(\"11\",\"1\"))\n",
    "print(Solution().addBinary(\"1010\",\"1011\"))"
   ]
  },
  {
   "cell_type": "code",
   "execution_count": 24,
   "id": "1ad5b570",
   "metadata": {},
   "outputs": [],
   "source": [
    "class Solution:\n",
    "    def addBinary(self, a: str, b: str) -> str:\n",
    "        result, carry, val = \"\", 0 , 0\n",
    "        for i in range(max(len(a),len(b))):\n",
    "            val = carry\n",
    "            if i < len(a):\n",
    "                val += int(a[-(i+1)])\n",
    "            if i < len(b):\n",
    "                val += int(b[-(i+1)])\n",
    "            carry, val = val // 2, val%2\n",
    "            result += str(val)\n",
    "        if carry:\n",
    "            result += str(1)\n",
    "        return result[::-1]"
   ]
  },
  {
   "cell_type": "code",
   "execution_count": 25,
   "id": "9843293e",
   "metadata": {
    "scrolled": true
   },
   "outputs": [
    {
     "name": "stdout",
     "output_type": "stream",
     "text": [
      "100\n",
      "10101\n"
     ]
    }
   ],
   "source": [
    "print(Solution().addBinary(\"11\",\"1\"))\n",
    "print(Solution().addBinary(\"1010\",\"1011\"))"
   ]
  },
  {
   "cell_type": "code",
   "execution_count": 21,
   "id": "af3c0393",
   "metadata": {},
   "outputs": [],
   "source": [
    "class Solution:\n",
    "    def addBinary(self, a: str, b: str) -> str:\n",
    "        x, y = int(a, 2), int(b, 2)\n",
    "        while y:\n",
    "            answer = x ^ y\n",
    "            carry = (x & y) << 1\n",
    "            x, y = answer, carry\n",
    "        return bin(x)[2:]"
   ]
  },
  {
   "cell_type": "code",
   "execution_count": 22,
   "id": "274f08c7",
   "metadata": {},
   "outputs": [
    {
     "name": "stdout",
     "output_type": "stream",
     "text": [
      "100\n",
      "10101\n"
     ]
    }
   ],
   "source": [
    "print(Solution().addBinary(\"11\",\"1\"))\n",
    "print(Solution().addBinary(\"1010\",\"1011\"))"
   ]
  },
  {
   "cell_type": "code",
   "execution_count": null,
   "id": "14e2aaae",
   "metadata": {},
   "outputs": [],
   "source": []
  }
 ],
 "metadata": {
  "kernelspec": {
   "display_name": "Python 3 (ipykernel)",
   "language": "python",
   "name": "python3"
  },
  "language_info": {
   "codemirror_mode": {
    "name": "ipython",
    "version": 3
   },
   "file_extension": ".py",
   "mimetype": "text/x-python",
   "name": "python",
   "nbconvert_exporter": "python",
   "pygments_lexer": "ipython3",
   "version": "3.8.12"
  }
 },
 "nbformat": 4,
 "nbformat_minor": 5
}
