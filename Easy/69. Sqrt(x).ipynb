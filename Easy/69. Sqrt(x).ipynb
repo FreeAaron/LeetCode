{
 "cells": [
  {
   "cell_type": "markdown",
   "id": "6a59b276",
   "metadata": {},
   "source": [
    "https://leetcode.com/problems/sqrtx/"
   ]
  },
  {
   "cell_type": "code",
   "execution_count": null,
   "id": "06d0f323",
   "metadata": {},
   "outputs": [],
   "source": [
    "class Solution:\n",
    "    def mySqrt(self, x: int) -> int:"
   ]
  },
  {
   "cell_type": "code",
   "execution_count": 1,
   "id": "9c503ef4",
   "metadata": {},
   "outputs": [],
   "source": [
    "#二分法\n",
    "class Solution:\n",
    "    def mySqrt(self, x: int) -> int:\n",
    "        if x < 2:\n",
    "            return x\n",
    "        \n",
    "        left, right = 1 , x // 2\n",
    "        while left <= right:\n",
    "            mid = left + (right - left) // 2\n",
    "            if mid > x/mid:\n",
    "                right = mid - 1\n",
    "            else:\n",
    "                left = mid + 1\n",
    "        return left - 1"
   ]
  },
  {
   "cell_type": "code",
   "execution_count": 3,
   "id": "390cad91",
   "metadata": {},
   "outputs": [
    {
     "name": "stdout",
     "output_type": "stream",
     "text": [
      "2\n",
      "2\n"
     ]
    }
   ],
   "source": [
    "print(Solution().mySqrt(4))\n",
    "print(Solution().mySqrt(8))"
   ]
  },
  {
   "cell_type": "code",
   "execution_count": null,
   "id": "b2a8d47e",
   "metadata": {},
   "outputs": [],
   "source": []
  }
 ],
 "metadata": {
  "kernelspec": {
   "display_name": "Python 3 (ipykernel)",
   "language": "python",
   "name": "python3"
  },
  "language_info": {
   "codemirror_mode": {
    "name": "ipython",
    "version": 3
   },
   "file_extension": ".py",
   "mimetype": "text/x-python",
   "name": "python",
   "nbconvert_exporter": "python",
   "pygments_lexer": "ipython3",
   "version": "3.8.12"
  }
 },
 "nbformat": 4,
 "nbformat_minor": 5
}
