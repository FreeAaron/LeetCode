{
 "cells": [
  {
   "cell_type": "markdown",
   "id": "681eb9f4",
   "metadata": {},
   "source": [
    "https://leetcode.com/problems/valid-parentheses/"
   ]
  },
  {
   "cell_type": "code",
   "execution_count": 3,
   "id": "c0e47045",
   "metadata": {},
   "outputs": [
    {
     "name": "stdout",
     "output_type": "stream",
     "text": [
      "True\n",
      "True\n",
      "False\n"
     ]
    }
   ],
   "source": [
    "class Solution:\n",
    "    def isValid(self, s: str) -> bool:\n",
    "        if len(s) % 2 == 1:\n",
    "            return False\n",
    "        \n",
    "        pairs = {\n",
    "            \")\" : \"(\" ,\n",
    "            \"]\" : \"[\" ,\n",
    "            \"}\" : \"{\" ,\n",
    "        }\n",
    "        stack = list()\n",
    "        for ch in s :\n",
    "            if ch in pairs:\n",
    "                if not stack or stack[-1] != pairs[ch]:\n",
    "                    return False\n",
    "                stack.pop()\n",
    "            else:\n",
    "                stack.append(ch)\n",
    "                \n",
    "        return not stack\n",
    "    \n",
    "print(Solution().isValid(\"()\"))\n",
    "print(Solution().isValid(\"()[]{}\"))\n",
    "print(Solution().isValid(\"(]\"))\n",
    "\n",
    "#先進後匹配"
   ]
  },
  {
   "cell_type": "code",
   "execution_count": null,
   "id": "4c617527",
   "metadata": {},
   "outputs": [],
   "source": []
  }
 ],
 "metadata": {
  "kernelspec": {
   "display_name": "Python 3 (ipykernel)",
   "language": "python",
   "name": "python3"
  },
  "language_info": {
   "codemirror_mode": {
    "name": "ipython",
    "version": 3
   },
   "file_extension": ".py",
   "mimetype": "text/x-python",
   "name": "python",
   "nbconvert_exporter": "python",
   "pygments_lexer": "ipython3",
   "version": "3.8.12"
  }
 },
 "nbformat": 4,
 "nbformat_minor": 5
}
