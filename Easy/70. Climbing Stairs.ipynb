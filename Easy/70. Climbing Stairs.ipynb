{
 "cells": [
  {
   "cell_type": "markdown",
   "id": "ecb4444d",
   "metadata": {},
   "source": [
    "https://leetcode.com/problems/climbing-stairs/   "
   ]
  },
  {
   "cell_type": "code",
   "execution_count": null,
   "id": "d15240de",
   "metadata": {},
   "outputs": [],
   "source": [
    "class Solution:\n",
    "    def climbStairs(self, n: int) -> int:"
   ]
  },
  {
   "cell_type": "code",
   "execution_count": null,
   "id": "0d24c1ab",
   "metadata": {},
   "outputs": [],
   "source": [
    "class Solution:\n",
    "    def climbStairs(self, n: int) -> int:\n",
    "        # n = 1 : 1\n",
    "        # n = 2 : 2\n",
    "        # n = 3 : 3\n",
    "        # n = 4 : 5\n",
    "        # n = 5 : 8\n",
    "        #...\n",
    "        # Fibonacci數列.."
   ]
  },
  {
   "cell_type": "code",
   "execution_count": 8,
   "id": "fd3a497b",
   "metadata": {},
   "outputs": [],
   "source": [
    "class Solution:\n",
    "    def climbStairs(self, n: int) -> int:\n",
    "        prev , current = 0 , 1\n",
    "        for i in range(n):\n",
    "            prev , current = current , prev + current\n",
    "        return current"
   ]
  },
  {
   "cell_type": "code",
   "execution_count": 9,
   "id": "48015286",
   "metadata": {},
   "outputs": [
    {
     "name": "stdout",
     "output_type": "stream",
     "text": [
      "2\n",
      "3\n",
      "8\n"
     ]
    }
   ],
   "source": [
    "print(Solution().climbStairs(2))\n",
    "print(Solution().climbStairs(3))\n",
    "print(Solution().climbStairs(5))"
   ]
  },
  {
   "cell_type": "code",
   "execution_count": null,
   "id": "6e02d845",
   "metadata": {},
   "outputs": [],
   "source": []
  }
 ],
 "metadata": {
  "kernelspec": {
   "display_name": "Python 3 (ipykernel)",
   "language": "python",
   "name": "python3"
  },
  "language_info": {
   "codemirror_mode": {
    "name": "ipython",
    "version": 3
   },
   "file_extension": ".py",
   "mimetype": "text/x-python",
   "name": "python",
   "nbconvert_exporter": "python",
   "pygments_lexer": "ipython3",
   "version": "3.8.12"
  }
 },
 "nbformat": 4,
 "nbformat_minor": 5
}
