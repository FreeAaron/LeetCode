{
 "cells": [
  {
   "cell_type": "markdown",
   "id": "33134a73",
   "metadata": {},
   "source": [
    "https://leetcode.com/problems/convert-sorted-array-to-binary-search-tree/"
   ]
  },
  {
   "cell_type": "code",
   "execution_count": null,
   "id": "b74bbc76",
   "metadata": {},
   "outputs": [],
   "source": [
    "# Definition for a binary tree node.\n",
    "# class TreeNode:\n",
    "#     def __init__(self, val=0, left=None, right=None):\n",
    "#         self.val = val\n",
    "#         self.left = left\n",
    "#         self.right = right\n",
    "class Solution:\n",
    "    def sortedArrayToBST(self, nums: List[int]) -> Optional[TreeNode]:\n",
    "        "
   ]
  },
  {
   "cell_type": "code",
   "execution_count": 2,
   "id": "efe1d673",
   "metadata": {},
   "outputs": [],
   "source": [
    "class TreeNode:\n",
    "    def __init__(self, val=0, left=None, right=None):\n",
    "        self.val = val\n",
    "        self.left = left\n",
    "        self.right = right\n",
    "\n",
    "from typing import Optional\n",
    "        \n",
    "class Solution:\n",
    "    def sortedArrayToBST(self, nums: List[int]) -> Optional[TreeNode]:\n",
    "        def to_bst(nums, start, end):\n",
    "            if start > end:\n",
    "                return None\n",
    "            mid =  (start + end) // 2\n",
    "            node = TreeNode(nums[mid])\n",
    "            node.left = to_bst(nums, start, mid-1)\n",
    "            node.right = to_bst(nums, mid+1, end)\n",
    "            return node\n",
    "        \n",
    "        return to_bst(nums, 0, len(nums) - 1)"
   ]
  },
  {
   "cell_type": "markdown",
   "id": "df5ef5a8",
   "metadata": {},
   "source": [
    "https://youtu.be/SS5Td7iz_0k"
   ]
  },
  {
   "cell_type": "code",
   "execution_count": null,
   "id": "2773e849",
   "metadata": {},
   "outputs": [],
   "source": []
  }
 ],
 "metadata": {
  "kernelspec": {
   "display_name": "Python 3 (ipykernel)",
   "language": "python",
   "name": "python3"
  },
  "language_info": {
   "codemirror_mode": {
    "name": "ipython",
    "version": 3
   },
   "file_extension": ".py",
   "mimetype": "text/x-python",
   "name": "python",
   "nbconvert_exporter": "python",
   "pygments_lexer": "ipython3",
   "version": "3.8.12"
  }
 },
 "nbformat": 4,
 "nbformat_minor": 5
}
