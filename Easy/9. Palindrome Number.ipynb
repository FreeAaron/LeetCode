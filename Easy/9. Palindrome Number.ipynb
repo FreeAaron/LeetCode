{
 "cells": [
  {
   "cell_type": "markdown",
   "id": "1a943c7d",
   "metadata": {},
   "source": [
    "# 9. Palindrome Number\n",
    "\n",
    "Given an integer x, return true if x is palindrome integer.\n",
    "\n",
    "An integer is a palindrome when it reads the same backward as forward.\n",
    "\n",
    "For example, 121 is a palindrome while 123 is not.\n",
    "\n",
    "https://leetcode.com/problems/palindrome-number/\n",
    "\n",
    "Input: x = 121\n",
    "Output: true\n",
    "\n",
    "Input: x = -121\n",
    "Output: false\n",
    "\n",
    "Input: x = 10\n",
    "Output: false"
   ]
  },
  {
   "cell_type": "code",
   "execution_count": 11,
   "id": "f4984441",
   "metadata": {},
   "outputs": [
    {
     "name": "stdout",
     "output_type": "stream",
     "text": [
      "True\n",
      "False\n",
      "False\n"
     ]
    }
   ],
   "source": [
    "class Solution:\n",
    "    def isPalindrome(self, x:int) -> bool:\n",
    "        if x < 0 or (x %10 == 0 and x != 0):  \n",
    "            return False\n",
    "        revertedNumber = 0\n",
    "        while x > revertedNumber:\n",
    "            revertedNumber = revertedNumber * 10 + x % 10\n",
    "            x //= 10\n",
    "        return x == revertedNumber or x == revertedNumber // 10\n",
    "    \n",
    "print(Solution().isPalindrome(121))\n",
    "print(Solution().isPalindrome(-121))\n",
    "print(Solution().isPalindrome(1000))"
   ]
  },
  {
   "cell_type": "code",
   "execution_count": 15,
   "id": "161a9af0",
   "metadata": {},
   "outputs": [
    {
     "name": "stdout",
     "output_type": "stream",
     "text": [
      "num= 1\n",
      "num= 12\n",
      "num= 121\n",
      "True\n",
      "num= 1\n",
      "num= 12\n",
      "num= 121\n",
      "False\n",
      "num= 0\n",
      "num= 0\n",
      "num= 0\n",
      "num= 1\n",
      "False\n"
     ]
    }
   ],
   "source": [
    "class Solution:\n",
    "    def isPalindrome(self, x):\n",
    "        \"\"\"\n",
    "        :type x: int\n",
    "        :rtype: bool\n",
    "        \"\"\"\n",
    "        num = 0\n",
    "        a = abs(x)\n",
    "        \n",
    "        while(a != 0):\n",
    "            temp = a % 10\n",
    "            num = num * 10 + temp\n",
    "            a = a // 10\n",
    "            #print('num=', num)\n",
    "            \n",
    "        if x >= 0 and x == num:\n",
    "            return True\n",
    "        else:\n",
    "            return False\n",
    "            \n",
    "print(Solution().isPalindrome(121))\n",
    "print(Solution().isPalindrome(-121))\n",
    "print(Solution().isPalindrome(1000))"
   ]
  },
  {
   "cell_type": "code",
   "execution_count": 16,
   "id": "826e8073",
   "metadata": {},
   "outputs": [
    {
     "name": "stdout",
     "output_type": "stream",
     "text": [
      "True\n",
      "False\n",
      "False\n"
     ]
    }
   ],
   "source": [
    "class Solution:\n",
    "    def isPalindrome(self, x):\n",
    "        y = str(x)\n",
    "        n = int((len(str(x)) + 1)/2)\n",
    "        for i in range(n):\n",
    "            if y[i] != y[-(i+1)]:\n",
    "                return False\n",
    "        else: \n",
    "            return True\n",
    "\n",
    "print(Solution().isPalindrome(121))\n",
    "print(Solution().isPalindrome(-121))\n",
    "print(Solution().isPalindrome(1000))"
   ]
  },
  {
   "cell_type": "code",
   "execution_count": 17,
   "id": "022d6863",
   "metadata": {},
   "outputs": [
    {
     "name": "stdout",
     "output_type": "stream",
     "text": [
      "True\n",
      "False\n",
      "False\n"
     ]
    }
   ],
   "source": [
    "class Solution:\n",
    "    def isPalindrome(self, x):\n",
    "        y = str(x)\n",
    "        if y == y[::-1]:\n",
    "            return True\n",
    "        else:\n",
    "            return False\n",
    "\n",
    "print(Solution().isPalindrome(121))\n",
    "print(Solution().isPalindrome(-121))\n",
    "print(Solution().isPalindrome(1000))"
   ]
  },
  {
   "cell_type": "code",
   "execution_count": null,
   "id": "f4551670",
   "metadata": {},
   "outputs": [],
   "source": []
  }
 ],
 "metadata": {
  "kernelspec": {
   "display_name": "Python 3 (ipykernel)",
   "language": "python",
   "name": "python3"
  },
  "language_info": {
   "codemirror_mode": {
    "name": "ipython",
    "version": 3
   },
   "file_extension": ".py",
   "mimetype": "text/x-python",
   "name": "python",
   "nbconvert_exporter": "python",
   "pygments_lexer": "ipython3",
   "version": "3.9.7"
  }
 },
 "nbformat": 4,
 "nbformat_minor": 5
}
