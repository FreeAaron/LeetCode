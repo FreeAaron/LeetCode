{
 "cells": [
  {
   "cell_type": "markdown",
   "id": "2ea7ba22",
   "metadata": {},
   "source": [
    "https://leetcode.com/problems/implement-strstr/"
   ]
  },
  {
   "cell_type": "code",
   "execution_count": null,
   "id": "1797b503",
   "metadata": {},
   "outputs": [],
   "source": [
    "class Solution:\n",
    "    def strStr(self, haystack: str, needle: str) -> int:"
   ]
  },
  {
   "cell_type": "code",
   "execution_count": 4,
   "id": "87530b9b",
   "metadata": {},
   "outputs": [],
   "source": [
    "class Solution:\n",
    "    def strStr(self, haystack: str, needle: str) -> int:\n",
    "        if needle == \"\" : return 0\n",
    "        size = len(needle)\n",
    "        for i in range(len(haystack)-size+1):\n",
    "            if haystack[i:i+size] == needle: return i  #size有幾個就一次檢查幾個\n",
    "        return -1"
   ]
  },
  {
   "cell_type": "code",
   "execution_count": 8,
   "id": "316cf0cc",
   "metadata": {},
   "outputs": [
    {
     "name": "stdout",
     "output_type": "stream",
     "text": [
      "2\n",
      "-1\n",
      "0\n"
     ]
    }
   ],
   "source": [
    "print(Solution().strStr(\"hello\",\"ll\"))\n",
    "print(Solution().strStr(\"aaaaa\",\"bba\"))\n",
    "print(Solution().strStr(\"Aaron\",\"\"))"
   ]
  },
  {
   "cell_type": "code",
   "execution_count": null,
   "id": "2bf16e6b",
   "metadata": {},
   "outputs": [],
   "source": []
  }
 ],
 "metadata": {
  "kernelspec": {
   "display_name": "Python 3 (ipykernel)",
   "language": "python",
   "name": "python3"
  },
  "language_info": {
   "codemirror_mode": {
    "name": "ipython",
    "version": 3
   },
   "file_extension": ".py",
   "mimetype": "text/x-python",
   "name": "python",
   "nbconvert_exporter": "python",
   "pygments_lexer": "ipython3",
   "version": "3.8.12"
  }
 },
 "nbformat": 4,
 "nbformat_minor": 5
}
